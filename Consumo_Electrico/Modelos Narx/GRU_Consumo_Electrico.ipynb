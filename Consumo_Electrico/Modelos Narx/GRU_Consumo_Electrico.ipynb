{
  "cells": [
    {
      "cell_type": "markdown",
      "metadata": {
        "id": "fEGfKHNl1B8W"
      },
      "source": [
        "**Modelo de red neuronal GRU**\n",
        "Este archivo consta de los codigos de:\n",
        "* 1.Carga de librerias y datos\n",
        "* 2.Proceso de entrenamiento\n",
        "  * 2.1. Separacion de datos en train y test\n",
        "  * 2.2 Modelo GRU\n",
        "* 3.Evaluacion del modelo\n",
        "* 4.Exportar resultados\n"
      ]
    },
    {
      "cell_type": "markdown",
      "metadata": {
        "id": "6RP-4WruJKgE"
      },
      "source": [
        "#1.Carga de Librerias y Datos\n"
      ]
    },
    {
      "cell_type": "markdown",
      "metadata": {
        "id": "nVnMhcSoSlSV"
      },
      "source": [
        "*Se importan los módulos necesarios para trabajar*"
      ]
    },
    {
      "cell_type": "markdown",
      "source": [
        "##Carga de librerias"
      ],
      "metadata": {
        "id": "n79c3O8Q7J4Z"
      }
    },
    {
      "cell_type": "code",
      "execution_count": 57,
      "metadata": {
        "id": "G7i-wKjBODjL"
      },
      "outputs": [],
      "source": [
        "#Pandas es utilizado para leer los set de datos\n",
        "import pandas as pd\n",
        "#Numpy es utilizado para generar las series de datos a graficar\n",
        "import numpy as np\n",
        "#Seaborn es utilizado para generar los gráficos\n",
        "import seaborn as sns\n",
        "import matplotlib.pyplot as plt\n",
        "#Se importan modulos estadisticos para generar test de hipotesis, entre otros\n",
        "from sklearn.preprocessing import StandardScaler,MinMaxScaler\n",
        "#Ignorar warnings\n",
        "import warnings\n",
        "warnings.filterwarnings(\"ignore\")\n",
        "\n",
        "#Dividir arreglos o matrices en subconjuntos aleatorios de tren y prueba\n",
        "from sklearn.model_selection import train_test_split\n",
        "\n",
        "#Biblioteca de Redes Neuronales\n",
        "import tensorflow as tf\n",
        "from tensorflow import keras\n",
        "from keras.models import Sequential,model_from_json\n",
        "from keras.layers import Dropout, LSTM, Dense, Activation,Input,GRU\n",
        "from tensorflow.keras.optimizers import SGD, Adam, RMSprop\n",
        "from keras.callbacks import EarlyStopping, ModelCheckpoint\n",
        "\n",
        "from hyperopt import Trials, STATUS_OK, tpe, hp, fmin, space_eval\n",
        "from sklearn.model_selection import cross_val_score, KFold, cross_val_predict, TimeSeriesSplit\n",
        "import os"
      ]
    },
    {
      "cell_type": "code",
      "execution_count": 33,
      "metadata": {
        "colab": {
          "base_uri": "https://localhost:8080/"
        },
        "id": "e2EV65dSNeQz",
        "outputId": "a04002b6-1201-44b8-c318-c1f1cd210ee6"
      },
      "outputs": [
        {
          "output_type": "stream",
          "name": "stdout",
          "text": [
            "Drive already mounted at /content/gdrive/; to attempt to forcibly remount, call drive.mount(\"/content/gdrive/\", force_remount=True).\n"
          ]
        }
      ],
      "source": [
        "# Para acceder a los archivos del gdrive\n",
        "from google.colab import drive\n",
        "drive.mount('/content/gdrive/')"
      ]
    },
    {
      "cell_type": "code",
      "execution_count": 34,
      "metadata": {
        "colab": {
          "base_uri": "https://localhost:8080/"
        },
        "id": "tVvMuwdEJHe1",
        "outputId": "51aad937-fc71-4bc1-d1c4-e1d86ca036bd"
      },
      "outputs": [
        {
          "output_type": "stream",
          "name": "stdout",
          "text": [
            "/content/gdrive/MyDrive/Tesis/Datos-ConsumoElectrico\n"
          ]
        }
      ],
      "source": [
        "cd /content/gdrive/MyDrive/Tesis/Datos-ConsumoElectrico"
      ]
    },
    {
      "cell_type": "markdown",
      "metadata": {
        "id": "M7M1WueLhoz-"
      },
      "source": [
        "##Se obtiene conjunto de datos"
      ]
    },
    {
      "cell_type": "code",
      "execution_count": 35,
      "metadata": {
        "id": "1vMxCeqUODn2"
      },
      "outputs": [],
      "source": [
        "predictor_variables=pd.read_csv('predictor_variables.csv' ,index_col='dt')\n",
        "target_variables=pd.read_csv('target_variables.csv' ,index_col='dt')"
      ]
    },
    {
      "cell_type": "code",
      "execution_count": 36,
      "metadata": {
        "id": "hetbeOU7mUgO"
      },
      "outputs": [],
      "source": [
        "#Setear semilla\n",
        "np.random.seed(42)"
      ]
    },
    {
      "cell_type": "markdown",
      "source": [
        "#2.Proceso de entrenamiento"
      ],
      "metadata": {
        "id": "X2PBUIzp6oHA"
      }
    },
    {
      "cell_type": "markdown",
      "source": [
        "**Se establece los parametros de:**"
      ],
      "metadata": {
        "id": "NY0FmAFkRxJa"
      }
    },
    {
      "cell_type": "code",
      "source": [
        "#Se establece porcentaje de usado para test\n",
        "PORCENTAJE_TEST=0.2\n",
        "\n",
        "#Se define la cantidad de intentos de la optimizacion bayesiana\n",
        "INTENTOS=100"
      ],
      "metadata": {
        "id": "Lm-O_eh_vNuQ"
      },
      "execution_count": 37,
      "outputs": []
    },
    {
      "cell_type": "markdown",
      "source": [
        "##2.1. Separacion de data en train y test"
      ],
      "metadata": {
        "id": "7wd0ZoUdN_Pq"
      }
    },
    {
      "cell_type": "code",
      "execution_count": 38,
      "metadata": {
        "colab": {
          "base_uri": "https://localhost:8080/"
        },
        "id": "0ET3jqe2ASan",
        "outputId": "7268b14e-a565-4ab0-e58c-62518d6869b8"
      },
      "outputs": [
        {
          "output_type": "stream",
          "name": "stdout",
          "text": [
            "Separacion de datos terminada!\n"
          ]
        }
      ],
      "source": [
        "#Se separa conjunto en entrenamiento y prueba; sin aleatoriedad\n",
        "X_train, X_test, Y_train, Y_test = train_test_split(predictor_variables, target_variables, test_size=PORCENTAJE_TEST, shuffle=False)\n",
        "\n",
        "shape_x_test=X_test.shape\n",
        "shape_y_test=Y_test.shape\n",
        "\n",
        "print(\"Separacion de datos terminada!\")"
      ]
    },
    {
      "cell_type": "code",
      "execution_count": 41,
      "metadata": {
        "id": "oOsY98FC-1q4"
      },
      "outputs": [],
      "source": [
        "#Se da formato de entradas como: Un tensor 3D con la forma [batch, timesteps, feature]\n",
        "X_train=np.array(X_train)\n",
        "X_train = X_train.reshape((X_train.shape[0], 1, X_train.shape[1]))\n",
        "\n",
        "Y_train_s=np.array(Y_train)\n",
        "Y_train_s = Y_train_s.reshape((Y_train_s.shape[0], 1, Y_train_s.shape[1]))\n",
        "\n",
        "X_test=np.array(X_test)\n",
        "X_test = X_test.reshape((X_test.shape[0], 1, X_test.shape[1]))\n",
        "\n",
        "Y_test=np.array(Y_test)\n",
        "Y_test = Y_test.reshape((Y_test.shape[0], 1, Y_test.shape[1]))"
      ]
    },
    {
      "cell_type": "markdown",
      "metadata": {
        "id": "7cWkYwLPYSLg"
      },
      "source": [
        "#2.2 Modelo GRU"
      ]
    },
    {
      "cell_type": "code",
      "source": [
        "import time"
      ],
      "metadata": {
        "id": "S3uIjRP06d-4"
      },
      "execution_count": 39,
      "outputs": []
    },
    {
      "cell_type": "code",
      "execution_count": 40,
      "metadata": {
        "id": "8feuK9ZLxdE9"
      },
      "outputs": [],
      "source": [
        "# Ajustar parámetros para reproducibilidad del entrenamiento\n",
        "keras.utils.set_random_seed(42)\n",
        "tf.config.experimental.enable_op_determinism()"
      ]
    },
    {
      "cell_type": "code",
      "execution_count": 42,
      "metadata": {
        "id": "XgHEgNTi75c4"
      },
      "outputs": [],
      "source": [
        "# Función para crear el modelo GRU\n",
        "def create_model(neurons, dropout,layers,learning_rate):\n",
        "\n",
        "    #Creacion de la arquitectura GRU\n",
        "    model = Sequential()\n",
        "    #Capas ocultas\n",
        "    for i in range(layers):\n",
        "        model.add(GRU(units=neurons, return_sequences=(layers-1), input_dim=X_train.shape[2]))\n",
        "        model.add(Dropout(dropout))\n",
        "    #Capa de salida\n",
        "    model.add(Dense(1))\n",
        "\n",
        "    #Se configura el proceso de entrenamiento del modelo y metricas de evaluacion\n",
        "    model.compile(loss='mean_squared_error',\n",
        "                  optimizer=Adam(learning_rate=learning_rate),\n",
        "                  metrics = [tf.keras.metrics.MeanSquaredError(),\n",
        "                            tf.keras.metrics.RootMeanSquaredError(),\n",
        "                            tf.keras.metrics.MeanAbsoluteError(),\n",
        "                            tf.keras.metrics.MeanAbsolutePercentageError()]\n",
        "                  )\n",
        "    return model"
      ]
    },
    {
      "cell_type": "code",
      "execution_count": 43,
      "metadata": {
        "id": "rcMm11JC6jlm"
      },
      "outputs": [],
      "source": [
        "def objective(params):\n",
        "\n",
        "    # Definir los hiperparámetros a optimizar\n",
        "    epochs = params['epochs']\n",
        "    batch_size = params['batch_size']\n",
        "    optimizer = params['optimizer']\n",
        "    neurons  = params['neurons']\n",
        "    dropout  = params['dropout']\n",
        "    layers  = params['layers']\n",
        "    learning_rate = params['learning_rate']\n",
        "\n",
        "    #kf = KFold(n_splits=5)\n",
        "    tscv = TimeSeriesSplit(n_splits=5)\n",
        "    scores = []\n",
        "    times=[]\n",
        "    models=[]\n",
        "    scores_test=[]\n",
        "    aux=1000\n",
        "\n",
        "    #Se detiene el entrenamiento en el momento que se observe un incremento en el valor del error de validación.\n",
        "    early_stop = EarlyStopping(monitor='val_loss', patience=30, mode='min',restore_best_weights=True)\n",
        "    print(f\"{neurons},{layers},{batch_size}\")\n",
        "    #Validacion cruzada\n",
        "    for train_index, test_index in tscv.split(X_train):\n",
        "      X_train_, X_test_ = X_train[train_index], X_train[test_index]\n",
        "      y_train_, y_test_ = Y_train_s[train_index], Y_train_s[test_index]\n",
        "\n",
        "      # Crear el modelo de GRU\n",
        "      model = create_model(int(neurons), float(dropout),int(layers),float(learning_rate))\n",
        "\n",
        "      #Entrenamiento\n",
        "      start = time.time()\n",
        "      hist=model.fit(X_train_, y_train_, batch_size=int(batch_size), epochs=int(epochs), verbose=0, validation_data=(X_test_, y_test_),callbacks=[early_stop],use_multiprocessing=True)\n",
        "      end = time.time()\n",
        "\n",
        "      #Evaluacion del modelo\n",
        "      score = model.evaluate(X_test_, y_test_, verbose = 0)\n",
        "      scores.append(score)\n",
        "      #Error en conjunto de test\n",
        "      score_test = model.evaluate(X_test, Y_test, verbose = 0)\n",
        "      scores_test.append(score_test)\n",
        "\n",
        "      #guardar modelo keras\n",
        "      models.append(model)\n",
        "\n",
        "      if(score_test[0]<aux):\n",
        "        aux=score_test[0]\n",
        "        best_model=model\n",
        "        hist_=hist\n",
        "\n",
        "      #Tiempo de la validadion cruzada\n",
        "      time_val= end- start\n",
        "      times.append(time_val)\n",
        "\n",
        "    return {'loss': np.mean(scores),\n",
        "            'status': STATUS_OK,\n",
        "            'model': best_model,\n",
        "            'params': params,\n",
        "            'time':times,\n",
        "            'hist':hist_,\n",
        "            'scores_test': scores_test,\n",
        "            'scores': scores,\n",
        "            'models':models}"
      ]
    },
    {
      "cell_type": "code",
      "execution_count": 44,
      "metadata": {
        "id": "XscBGc0Suu-L"
      },
      "outputs": [],
      "source": [
        "#Se define el espacio de busqueda de hiperparametros para el modelo\n",
        "space = {\n",
        "    'epochs': 800,\n",
        "    'batch_size':  hp.quniform('batch_size', 10, 100, 10),\n",
        "    'optimizer':'adam',\n",
        "    'neurons': hp.quniform('neurons', 100, 800, 20),\n",
        "    'dropout':hp.uniform('dropout', 0.4, 0.7),\n",
        "    'layers': hp.quniform('layers', 1, 3, 1),\n",
        "    'learning_rate': hp.uniform('learning_rate', 0.0001, 0.0005),\n",
        "}"
      ]
    },
    {
      "cell_type": "code",
      "execution_count": 45,
      "metadata": {
        "id": "H0TgeLtYgJIY",
        "colab": {
          "base_uri": "https://localhost:8080/"
        },
        "outputId": "c42d718f-ba47-4c6a-9dc7-7e42291f1e29"
      },
      "outputs": [
        {
          "output_type": "stream",
          "name": "stdout",
          "text": [
            "Se inicia entrenamiento...\n",
            "360.0,2.0,50.0\n",
            "100%|██████████| 1/1 [01:08<00:00, 68.59s/trial, best loss: 52.28040707468986]\n",
            "Modelo entrenado!\n"
          ]
        }
      ],
      "source": [
        "print(\"Se inicia entrenamiento...\")\n",
        "#Optimización bayesiana\n",
        "trials = Trials()\n",
        "best = fmin(fn=objective, space=space, algo=tpe.suggest, max_evals=INTENTOS, trials=trials)\n",
        "print(\"Modelo entrenado!\")"
      ]
    },
    {
      "cell_type": "code",
      "execution_count": 46,
      "metadata": {
        "id": "w-LkIIjzQ7ro"
      },
      "outputs": [],
      "source": [
        "#Obtener el valor de la función objetivo del mejor ensayo\n",
        "best_trial = trials.best_trial\n",
        "hist = best_trial['result']['hist']\n",
        "best_model = best_trial['result']['model']\n",
        "scores_model = best_trial['result']['scores_test']"
      ]
    },
    {
      "cell_type": "code",
      "execution_count": 47,
      "metadata": {
        "id": "Wdfti6COV2GL"
      },
      "outputs": [],
      "source": [
        "# Obtener una lista de los resultados de todas las evaluaciones\n",
        "all_results = [trial['result'] for trial in trials]"
      ]
    },
    {
      "cell_type": "code",
      "execution_count": 48,
      "metadata": {
        "id": "DzzcaE4MqjZg",
        "colab": {
          "base_uri": "https://localhost:8080/"
        },
        "outputId": "fad0ba85-2d40-4032-b44c-df83693a9b75"
      },
      "outputs": [
        {
          "output_type": "execute_result",
          "data": {
            "text/plain": [
              "{'batch_size': 50.0,\n",
              " 'dropout': 0.4115646127230011,\n",
              " 'epochs': 800,\n",
              " 'layers': 2.0,\n",
              " 'learning_rate': 0.00027204648967710455,\n",
              " 'neurons': 360.0,\n",
              " 'optimizer': 'adam'}"
            ]
          },
          "metadata": {},
          "execution_count": 48
        }
      ],
      "source": [
        "# Mejores hiperparámetros encontrados\n",
        "best_params = space_eval(space, best)\n",
        "best_params"
      ]
    },
    {
      "cell_type": "markdown",
      "metadata": {
        "id": "PoXytm9xepyx"
      },
      "source": [
        "#3.Evaluacion del modelo"
      ]
    },
    {
      "cell_type": "code",
      "execution_count": 49,
      "metadata": {
        "id": "jBjoMPzLWJZS",
        "colab": {
          "base_uri": "https://localhost:8080/",
          "height": 0
        },
        "outputId": "a1a09afa-19ef-4046-9032-3bc1c75be497"
      },
      "outputs": [
        {
          "output_type": "display_data",
          "data": {
            "text/plain": [
              "<Figure size 800x400 with 1 Axes>"
            ],
            "image/png": "[encoded data removed]"
          },
          "metadata": {}
        }
      ],
      "source": [
        "plt.figure(figsize=(8,4))\n",
        "plt.plot(hist.history['loss'], color = 'orange')\n",
        "plt.plot(hist.history['val_loss'])\n",
        "plt.title('Optimized Model Loss')\n",
        "plt.ylabel('Loss')\n",
        "plt.xlabel('Epoch')\n",
        "plt.legend(['train', 'test'], loc='best')\n",
        "plt.show()"
      ]
    },
    {
      "cell_type": "code",
      "execution_count": 50,
      "metadata": {
        "id": "e-qQvke-of30",
        "colab": {
          "base_uri": "https://localhost:8080/"
        },
        "outputId": "43f9fd2d-c76a-4687-d745-7b152ca40af6"
      },
      "outputs": [
        {
          "output_type": "stream",
          "name": "stdout",
          "text": [
            "9/9 [==============================] - 1s 4ms/step\n"
          ]
        }
      ],
      "source": [
        "#Se realiza prediccion\n",
        "results = best_model.predict(X_test)\n",
        "\n",
        "results = results.reshape(shape_y_test)\n",
        "y_grafico = Y_test.reshape(shape_y_test)"
      ]
    },
    {
      "cell_type": "code",
      "execution_count": 51,
      "metadata": {
        "id": "XCzmjeguxJAL",
        "colab": {
          "base_uri": "https://localhost:8080/",
          "height": 0
        },
        "outputId": "0fdd5eb1-792b-4c75-9463-a511e691d0f3"
      },
      "outputs": [
        {
          "output_type": "display_data",
          "data": {
            "text/plain": [
              "<Figure size 1800x400 with 1 Axes>"
            ],
            "image/png": "[encoded data removed]"
          },
          "metadata": {}
        }
      ],
      "source": [
        "#Grafico de prediccion con el valor real\n",
        "tiempo=[x for x in range(y_grafico.shape[0])]\n",
        "plt.figure(figsize=(18,4))\n",
        "plt.plot(tiempo,results)\n",
        "plt.ylabel('Global_active_power', size=15)\n",
        "plt.plot(tiempo,y_grafico)\n",
        "plt.xlabel('Time step', size=15)\n",
        "plt.legend(['Prediccion','Real'])\n",
        "plt.show()"
      ]
    },
    {
      "cell_type": "code",
      "execution_count": 52,
      "metadata": {
        "id": "yH9bmzulWWER",
        "colab": {
          "base_uri": "https://localhost:8080/"
        },
        "outputId": "01fc397f-936b-4d9c-b002-ecc5faf50488"
      },
      "outputs": [
        {
          "output_type": "stream",
          "name": "stdout",
          "text": [
            "MSE: 0.3836117088794708\n",
            "RMSE: 0.6193639636039734\n",
            "MAE: 0.46099814772605896\n",
            "MAPE: 223.80018615722656\n"
          ]
        }
      ],
      "source": [
        "#Metricas de precision del modelo keras\n",
        "score = best_model.evaluate(X_test, Y_test, verbose = 0)\n",
        "print('MSE:', score[1])\n",
        "print('RMSE:', score[2])\n",
        "print('MAE:', score[3])\n",
        "print('MAPE:', score[4])"
      ]
    },
    {
      "cell_type": "markdown",
      "metadata": {
        "id": "UcxinE4q4n3B"
      },
      "source": [
        "#4.Exportar resultados"
      ]
    },
    {
      "cell_type": "markdown",
      "metadata": {
        "id": "HSSOElBiSJ6j"
      },
      "source": [
        "Se guardan los resultados la optimizacion bayesiana"
      ]
    },
    {
      "cell_type": "code",
      "execution_count": 53,
      "metadata": {
        "id": "el6nmqt8yYcE"
      },
      "outputs": [],
      "source": [
        "#Del objeto all_results donde estan los resultados de cada trial de la optimizacion bayesiana se obtiene los parametros para exportalos a un csv\n",
        "results=[]\n",
        "trial=0 #Nº de intento de optimizacion bayesiana\n",
        "\n",
        "for result in all_results:\n",
        "  k=0 #validacion cruzada\n",
        "  trial+=1\n",
        "  i=0\n",
        "  for time in result['time']:\n",
        "    k+=1\n",
        "    nameModel = \"GRU_CE\"+\"_\"+str(trial)+\"_\"+str(k) + \"_\"+str(result['params']['epochs'])+\"_\"+str(result['params']['batch_size'])+\"_\"+str(result['params']['layers'])+\"_\"+str(result['params']['neurons'])+\"_\"+str(round(result['params']['dropout'],2))+\"_\"+str(result['params']['optimizer'])+\"_\"+str(result['params']['learning_rate'])\n",
        "    results.append([nameModel,trial,k,time,\n",
        "                    result['scores_test'][i][0],result['scores_test'][i][2],result['scores_test'][i][3],result['scores_test'][i][4]]\n",
        "                   )\n",
        "    i+=1"
      ]
    },
    {
      "cell_type": "code",
      "execution_count": 54,
      "metadata": {
        "id": "42RrcsC43uO2"
      },
      "outputs": [],
      "source": [
        "#Se crea dataframe\n",
        "results_csv=pd.DataFrame(results,columns=['nameModel','trial_optimizacion_bayesiana','Step_validacion','time','MSE','RMSE','MAE','MAPE'])"
      ]
    },
    {
      "cell_type": "code",
      "execution_count": 55,
      "metadata": {
        "id": "FQ2U-vAHTn6s",
        "colab": {
          "base_uri": "https://localhost:8080/",
          "height": 206
        },
        "outputId": "75b23ac4-77c5-47e7-96c7-a5b8070dc413"
      },
      "outputs": [
        {
          "output_type": "execute_result",
          "data": {
            "text/plain": [
              "                                           nameModel  \\\n",
              "4  GRU_CE_1_5_800_50.0_2.0_360.0_0.41_adam_0.0002...   \n",
              "3  GRU_CE_1_4_800_50.0_2.0_360.0_0.41_adam_0.0002...   \n",
              "2  GRU_CE_1_3_800_50.0_2.0_360.0_0.41_adam_0.0002...   \n",
              "0  GRU_CE_1_1_800_50.0_2.0_360.0_0.41_adam_0.0002...   \n",
              "1  GRU_CE_1_2_800_50.0_2.0_360.0_0.41_adam_0.0002...   \n",
              "\n",
              "   trial_optimizacion_bayesiana  Step_validacion       time       MSE  \\\n",
              "4                             1                5  12.810508  0.383612   \n",
              "3                             1                4  20.698195  0.391847   \n",
              "2                             1                3  12.310935  0.428523   \n",
              "0                             1                1   8.250882  0.436033   \n",
              "1                             1                2  10.467596  0.526639   \n",
              "\n",
              "       RMSE       MAE        MAPE  \n",
              "4  0.619364  0.460998  223.800186  \n",
              "3  0.625977  0.463639  241.833984  \n",
              "2  0.654617  0.496347  269.332825  \n",
              "0  0.660328  0.498395  272.308075  \n",
              "1  0.725699  0.560018  343.245392  "
            ],
            "text/html": [
              "\n",
              "  <div id=\"df-83967d4e-9b78-435a-b1f8-b5f363dbf0d5\" class=\"colab-df-container\">\n",
              "    <div>\n",
              "<style scoped>\n",
              "    .dataframe tbody tr th:only-of-type {\n",
              "        vertical-align: middle;\n",
              "    }\n",
              "\n",
              "    .dataframe tbody tr th {\n",
              "        vertical-align: top;\n",
              "    }\n",
              "\n",
              "    .dataframe thead th {\n",
              "        text-align: right;\n",
              "    }\n",
              "</style>\n",
              "<table border=\"1\" class=\"dataframe\">\n",
              "  <thead>\n",
              "    <tr style=\"text-align: right;\">\n",
              "      <th></th>\n",
              "      <th>nameModel</th>\n",
              "      <th>trial_optimizacion_bayesiana</th>\n",
              "      <th>Step_validacion</th>\n",
              "      <th>time</th>\n",
              "      <th>MSE</th>\n",
              "      <th>RMSE</th>\n",
              "      <th>MAE</th>\n",
              "      <th>MAPE</th>\n",
              "    </tr>\n",
              "  </thead>\n",
              "  <tbody>\n",
              "    <tr>\n",
              "      <th>4</th>\n",
              "      <td>GRU_CE_1_5_800_50.0_2.0_360.0_0.41_adam_0.0002...</td>\n",
              "      <td>1</td>\n",
              "      <td>5</td>\n",
              "      <td>12.810508</td>\n",
              "      <td>0.383612</td>\n",
              "      <td>0.619364</td>\n",
              "      <td>0.460998</td>\n",
              "      <td>223.800186</td>\n",
              "    </tr>\n",
              "    <tr>\n",
              "      <th>3</th>\n",
              "      <td>GRU_CE_1_4_800_50.0_2.0_360.0_0.41_adam_0.0002...</td>\n",
              "      <td>1</td>\n",
              "      <td>4</td>\n",
              "      <td>20.698195</td>\n",
              "      <td>0.391847</td>\n",
              "      <td>0.625977</td>\n",
              "      <td>0.463639</td>\n",
              "      <td>241.833984</td>\n",
              "    </tr>\n",
              "    <tr>\n",
              "      <th>2</th>\n",
              "      <td>GRU_CE_1_3_800_50.0_2.0_360.0_0.41_adam_0.0002...</td>\n",
              "      <td>1</td>\n",
              "      <td>3</td>\n",
              "      <td>12.310935</td>\n",
              "      <td>0.428523</td>\n",
              "      <td>0.654617</td>\n",
              "      <td>0.496347</td>\n",
              "      <td>269.332825</td>\n",
              "    </tr>\n",
              "    <tr>\n",
              "      <th>0</th>\n",
              "      <td>GRU_CE_1_1_800_50.0_2.0_360.0_0.41_adam_0.0002...</td>\n",
              "      <td>1</td>\n",
              "      <td>1</td>\n",
              "      <td>8.250882</td>\n",
              "      <td>0.436033</td>\n",
              "      <td>0.660328</td>\n",
              "      <td>0.498395</td>\n",
              "      <td>272.308075</td>\n",
              "    </tr>\n",
              "    <tr>\n",
              "      <th>1</th>\n",
              "      <td>GRU_CE_1_2_800_50.0_2.0_360.0_0.41_adam_0.0002...</td>\n",
              "      <td>1</td>\n",
              "      <td>2</td>\n",
              "      <td>10.467596</td>\n",
              "      <td>0.526639</td>\n",
              "      <td>0.725699</td>\n",
              "      <td>0.560018</td>\n",
              "      <td>343.245392</td>\n",
              "    </tr>\n",
              "  </tbody>\n",
              "</table>\n",
              "</div>\n",
              "    <div class=\"colab-df-buttons\">\n",
              "\n",
              "  <div class=\"colab-df-container\">\n",
              "    <button class=\"colab-df-convert\" onclick=\"convertToInteractive('df-83967d4e-9b78-435a-b1f8-b5f363dbf0d5')\"\n",
              "            title=\"Convert this dataframe to an interactive table.\"\n",
              "            style=\"display:none;\">\n",
              "\n",
              "  <svg xmlns=\"http://www.w3.org/2000/svg\" height=\"24px\" viewBox=\"0 -960 960 960\">\n",
              "    <path d=\"M120-120v-720h720v720H120Zm60-500h600v-160H180v160Zm220 220h160v-160H400v160Zm0 220h160v-160H400v160ZM180-400h160v-160H180v160Zm440 0h160v-160H620v160ZM180-180h160v-160H180v160Zm440 0h160v-160H620v160Z\"/>\n",
              "  </svg>\n",
              "    </button>\n",
              "\n",
              "  <style>\n",
              "    .colab-df-container {\n",
              "      display:flex;\n",
              "      gap: 12px;\n",
              "    }\n",
              "\n",
              "    .colab-df-convert {\n",
              "      background-color: #E8F0FE;\n",
              "      border: none;\n",
              "      border-radius: 50%;\n",
              "      cursor: pointer;\n",
              "      display: none;\n",
              "      fill: #1967D2;\n",
              "      height: 32px;\n",
              "      padding: 0 0 0 0;\n",
              "      width: 32px;\n",
              "    }\n",
              "\n",
              "    .colab-df-convert:hover {\n",
              "      background-color: #E2EBFA;\n",
              "      box-shadow: 0px 1px 2px rgba(60, 64, 67, 0.3), 0px 1px 3px 1px rgba(60, 64, 67, 0.15);\n",
              "      fill: #174EA6;\n",
              "    }\n",
              "\n",
              "    .colab-df-buttons div {\n",
              "      margin-bottom: 4px;\n",
              "    }\n",
              "\n",
              "    [theme=dark] .colab-df-convert {\n",
              "      background-color: #3B4455;\n",
              "      fill: #D2E3FC;\n",
              "    }\n",
              "\n",
              "    [theme=dark] .colab-df-convert:hover {\n",
              "      background-color: #434B5C;\n",
              "      box-shadow: 0px 1px 3px 1px rgba(0, 0, 0, 0.15);\n",
              "      filter: drop-shadow(0px 1px 2px rgba(0, 0, 0, 0.3));\n",
              "      fill: #FFFFFF;\n",
              "    }\n",
              "  </style>\n",
              "\n",
              "    <script>\n",
              "      const buttonEl =\n",
              "        document.querySelector('#df-83967d4e-9b78-435a-b1f8-b5f363dbf0d5 button.colab-df-convert');\n",
              "      buttonEl.style.display =\n",
              "        google.colab.kernel.accessAllowed ? 'block' : 'none';\n",
              "\n",
              "      async function convertToInteractive(key) {\n",
              "        const element = document.querySelector('#df-83967d4e-9b78-435a-b1f8-b5f363dbf0d5');\n",
              "        const dataTable =\n",
              "          await google.colab.kernel.invokeFunction('convertToInteractive',\n",
              "                                                    [key], {});\n",
              "        if (!dataTable) return;\n",
              "\n",
              "        const docLinkHtml = 'Like what you see? Visit the ' +\n",
              "          '<a target=\"_blank\" href=https://colab.research.google.com/notebooks/data_table.ipynb>data table notebook</a>'\n",
              "          + ' to learn more about interactive tables.';\n",
              "        element.innerHTML = '';\n",
              "        dataTable['output_type'] = 'display_data';\n",
              "        await google.colab.output.renderOutput(dataTable, element);\n",
              "        const docLink = document.createElement('div');\n",
              "        docLink.innerHTML = docLinkHtml;\n",
              "        element.appendChild(docLink);\n",
              "      }\n",
              "    </script>\n",
              "  </div>\n",
              "\n",
              "\n",
              "<div id=\"df-5eb84946-2f1c-4b7c-ba03-17bcc4fdc341\">\n",
              "  <button class=\"colab-df-quickchart\" onclick=\"quickchart('df-5eb84946-2f1c-4b7c-ba03-17bcc4fdc341')\"\n",
              "            title=\"Suggest charts.\"\n",
              "            style=\"display:none;\">\n",
              "\n",
              "<svg xmlns=\"http://www.w3.org/2000/svg\" height=\"24px\"viewBox=\"0 0 24 24\"\n",
              "     width=\"24px\">\n",
              "    <g>\n",
              "        <path d=\"M19 3H5c-1.1 0-2 .9-2 2v14c0 1.1.9 2 2 2h14c1.1 0 2-.9 2-2V5c0-1.1-.9-2-2-2zM9 17H7v-7h2v7zm4 0h-2V7h2v10zm4 0h-2v-4h2v4z\"/>\n",
              "    </g>\n",
              "</svg>\n",
              "  </button>\n",
              "\n",
              "<style>\n",
              "  .colab-df-quickchart {\n",
              "    background-color: #E8F0FE;\n",
              "    border: none;\n",
              "    border-radius: 50%;\n",
              "    cursor: pointer;\n",
              "    display: none;\n",
              "    fill: #1967D2;\n",
              "    height: 32px;\n",
              "    padding: 0 0 0 0;\n",
              "    width: 32px;\n",
              "  }\n",
              "\n",
              "  .colab-df-quickchart:hover {\n",
              "    background-color: #E2EBFA;\n",
              "    box-shadow: 0px 1px 2px rgba(60, 64, 67, 0.3), 0px 1px 3px 1px rgba(60, 64, 67, 0.15);\n",
              "    fill: #174EA6;\n",
              "  }\n",
              "\n",
              "  [theme=dark] .colab-df-quickchart {\n",
              "    background-color: #3B4455;\n",
              "    fill: #D2E3FC;\n",
              "  }\n",
              "\n",
              "  [theme=dark] .colab-df-quickchart:hover {\n",
              "    background-color: #434B5C;\n",
              "    box-shadow: 0px 1px 3px 1px rgba(0, 0, 0, 0.15);\n",
              "    filter: drop-shadow(0px 1px 2px rgba(0, 0, 0, 0.3));\n",
              "    fill: #FFFFFF;\n",
              "  }\n",
              "</style>\n",
              "\n",
              "  <script>\n",
              "    async function quickchart(key) {\n",
              "      const charts = await google.colab.kernel.invokeFunction(\n",
              "          'suggestCharts', [key], {});\n",
              "    }\n",
              "    (() => {\n",
              "      let quickchartButtonEl =\n",
              "        document.querySelector('#df-5eb84946-2f1c-4b7c-ba03-17bcc4fdc341 button');\n",
              "      quickchartButtonEl.style.display =\n",
              "        google.colab.kernel.accessAllowed ? 'block' : 'none';\n",
              "    })();\n",
              "  </script>\n",
              "</div>\n",
              "    </div>\n",
              "  </div>\n"
            ]
          },
          "metadata": {},
          "execution_count": 55
        }
      ],
      "source": [
        "results_o = results_csv.sort_values(by='MSE', ascending=True)\n",
        "results_o.head(5)"
      ]
    },
    {
      "cell_type": "code",
      "execution_count": 58,
      "metadata": {
        "id": "CTI_Bk4PMBDW"
      },
      "outputs": [],
      "source": [
        "# Exportar el DataFrame como CSV\n",
        "folder_path = '/content/gdrive/MyDrive/Tesis/Datos-ConsumoElectrico/Resultados_csv'\n",
        "csv_filename = 'results_GRU_CE'\n",
        "csv_path = os.path.join(folder_path, csv_filename)\n",
        "results_csv.to_csv(csv_path, index=False)"
      ]
    },
    {
      "cell_type": "markdown",
      "metadata": {
        "id": "9bNdR66vSPLU"
      },
      "source": [
        "Se guarda cada modelo keras en un objeto Json"
      ]
    },
    {
      "cell_type": "code",
      "execution_count": 59,
      "metadata": {
        "id": "WG6WVk0YclhH"
      },
      "outputs": [],
      "source": [
        "# Ruta de la carpeta que deseas crear\n",
        "carpeta_destino ='/content/gdrive/MyDrive/Tesis/Datos-ConsumoElectrico/Resultados_Modelos/results_GRU'\n",
        "\n",
        "# Verificar si la carpeta ya existe\n",
        "if not os.path.exists(carpeta_destino):\n",
        "    # Crear la carpeta si no existe\n",
        "    os.makedirs(carpeta_destino)"
      ]
    },
    {
      "cell_type": "code",
      "execution_count": 60,
      "metadata": {
        "id": "Ky53DijybhDq"
      },
      "outputs": [],
      "source": [
        "#Del objeto all_results donde estan los resultados de cada trial de la optimizacion bayesiana se obtiene los modelos para exportalos a un Json\n",
        "results=[]\n",
        "trial=0 #Nº de intento de optimizacion bayesiana\n",
        "\n",
        "for result in all_results:\n",
        "  k=0 #validacion cruzada\n",
        "  trial+=1\n",
        "  i=0\n",
        "  for model in result['models']:\n",
        "    k+=1\n",
        "    nameModel = \"GRU_CE\"+\"_\"+str(trial)+\"_\"+str(k) + \"__\"+str(result['params']['epochs'])+\"_\"+str(result['params']['batch_size'])+\"_\"+str(result['params']['layers'])+\"_\"+str(result['params']['neurons'])+\"_\"+str(round(result['params']['dropout'],2))+\"_\"+str(result['params']['optimizer'])+\"_\"+str(result['params']['learning_rate'])\n",
        "    model_json = model.to_json()\n",
        "    nameModel_j=nameModel+\".\"+\"json\"\n",
        "    ruta = os.path.join(carpeta_destino, nameModel + \".json\")\n",
        "    with open(ruta, \"w\") as json_file:\n",
        "        json_file.write(model_json)\n",
        "    # serialize weights to HDF5\n",
        "    save_w=nameModel+\".\"+\"h5\"\n",
        "    weights_path = os.path.join(carpeta_destino, save_w)\n",
        "    model.save_weights(weights_path)\n",
        "    i+=1"
      ]
    }
  ],
  "metadata": {
    "accelerator": "TPU",
    "colab": {
      "machine_shape": "hm",
      "provenance": [],
      "collapsed_sections": [
        "PoXytm9xepyx"
      ]
    },
    "kernelspec": {
      "display_name": "Python 3",
      "name": "python3"
    },
    "language_info": {
      "name": "python"
    }
  },
  "nbformat": 4,
  "nbformat_minor": 0
}