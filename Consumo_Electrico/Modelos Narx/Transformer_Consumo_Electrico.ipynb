{
  "cells": [
    {
      "cell_type": "markdown",
      "metadata": {
        "id": "fEGfKHNl1B8W"
      },
      "source": [
        "**Modelo de red neuronal Transformer**\n",
        "\n",
        "Este archivo consta de los codigos de:\n",
        "* 1.Carga de librerias y datos\n",
        "* 2.Proceso de entrenamiento\n",
        "  * 2.1. Separacion de datos en train y test\n",
        "  * 2.2 Modelo Transformer\n",
        "* 3.Evaluacion del modelo\n",
        "* 4.Exportar resultados\n"
      ]
    },
    {
      "cell_type": "markdown",
      "metadata": {
        "id": "6RP-4WruJKgE"
      },
      "source": [
        "#1.Carga de Librerias y Datos\n"
      ]
    },
    {
      "cell_type": "markdown",
      "metadata": {
        "id": "nVnMhcSoSlSV"
      },
      "source": [
        "*Se importan los módulos necesarios para trabajar*"
      ]
    },
    {
      "cell_type": "markdown",
      "source": [
        "##Carga de librerias"
      ],
      "metadata": {
        "id": "BWFIjQxptZBp"
      }
    },
    {
      "cell_type": "code",
      "execution_count": null,
      "metadata": {
        "id": "G7i-wKjBODjL"
      },
      "outputs": [],
      "source": [
        "#Pandas es utilizado para leer los set de datos\n",
        "import pandas as pd\n",
        "#Numpy es utilizado para generar las series de datos a graficar\n",
        "import numpy as np\n",
        "#Seaborn es utilizado para generar los gráficos\n",
        "import matplotlib.pyplot as plt\n",
        "#Se importan modulos estadisticos para generar test de hipotesis, entre otros\n",
        "from sklearn.preprocessing import StandardScaler,MinMaxScaler\n",
        "#Ignorar warnings\n",
        "\n",
        "#Dividir arreglos o matrices en subconjuntos aleatorios de tren y prueba\n",
        "from sklearn.model_selection import train_test_split\n",
        "\n",
        "#Biblioteca de Redes Neuronales\n",
        "from tensorflow import keras\n",
        "from keras.models import Sequential, model_from_json\n",
        "from keras.layers import Dropout, GRU, Dense, Activation,Input\n",
        "import tensorflow as tf\n",
        "from tensorflow.keras.optimizers import SGD, Adam, RMSprop\n",
        "from keras.callbacks import EarlyStopping, ModelCheckpoint\n",
        "\n",
        "from hyperopt import Trials, STATUS_OK, tpe, hp, fmin, space_eval\n",
        "from sklearn.model_selection import cross_val_score, KFold, cross_val_predict, TimeSeriesSplit\n",
        "import time,os\n",
        "# Transformer with Bayesian optimization and Cross-validation\n",
        "from keras.models import Model\n",
        "from keras.layers import Input, Dense, Dropout, TimeDistributed\n",
        "from keras.layers import LayerNormalization, MultiHeadAttention, Add\n",
        "from keras.optimizers import Adam\n",
        "from sklearn.model_selection import cross_val_score, KFold"
      ]
    },
    {
      "cell_type": "code",
      "execution_count": null,
      "metadata": {
        "colab": {
          "base_uri": "https://localhost:8080/"
        },
        "id": "e2EV65dSNeQz",
        "outputId": "61471e1e-80b1-47f7-809b-e33abce3135c"
      },
      "outputs": [
        {
          "output_type": "stream",
          "name": "stdout",
          "text": [
            "Mounted at /content/gdrive/\n"
          ]
        }
      ],
      "source": [
        "# Para acceder a los archivos del gdrive\n",
        "from google.colab import drive\n",
        "drive.mount('/content/gdrive/')\n"
      ]
    },
    {
      "cell_type": "code",
      "execution_count": null,
      "metadata": {
        "colab": {
          "base_uri": "https://localhost:8080/"
        },
        "id": "0G62iH51OBl0",
        "outputId": "475c6427-4fb4-4287-cdd3-bcb9ebc9f89c"
      },
      "outputs": [
        {
          "output_type": "stream",
          "name": "stdout",
          "text": [
            "/content/gdrive/MyDrive/Tesis/Datos-ConsumoElectrico\n"
          ]
        }
      ],
      "source": [
        "cd /content/gdrive/MyDrive/Tesis/Datos-ConsumoElectrico"
      ]
    },
    {
      "cell_type": "markdown",
      "metadata": {
        "id": "M7M1WueLhoz-"
      },
      "source": [
        "##Se obtiene conjunto de datos"
      ]
    },
    {
      "cell_type": "code",
      "execution_count": null,
      "metadata": {
        "id": "1vMxCeqUODn2"
      },
      "outputs": [],
      "source": [
        "predictor_variables=pd.read_csv('predictor_variables.csv' ,index_col='dt')\n",
        "target_variables=pd.read_csv('target_variables.csv' ,index_col='dt')"
      ]
    },
    {
      "cell_type": "code",
      "execution_count": null,
      "metadata": {
        "id": "hetbeOU7mUgO"
      },
      "outputs": [],
      "source": [
        "#Setear semilla\n",
        "np.random.seed(42)"
      ]
    },
    {
      "cell_type": "markdown",
      "source": [
        "#2.Proceso de entrenamiento"
      ],
      "metadata": {
        "id": "Yrg4RHIftuNY"
      }
    },
    {
      "cell_type": "markdown",
      "source": [
        "**Se establece los parametros de:**"
      ],
      "metadata": {
        "id": "NY0FmAFkRxJa"
      }
    },
    {
      "cell_type": "code",
      "source": [
        "#Se establece porcentaje de usado para test\n",
        "PORCENTAJE_TEST=0.2\n",
        "\n",
        "#Se define la cantidad de intentos de la optimizacion bayesiana\n",
        "INTENTOS=100"
      ],
      "metadata": {
        "id": "Lm-O_eh_vNuQ"
      },
      "execution_count": null,
      "outputs": []
    },
    {
      "cell_type": "markdown",
      "source": [
        "##2.1. Separacion de data en train y test"
      ],
      "metadata": {
        "id": "7wd0ZoUdN_Pq"
      }
    },
    {
      "cell_type": "code",
      "execution_count": null,
      "metadata": {
        "colab": {
          "base_uri": "https://localhost:8080/"
        },
        "id": "0ET3jqe2ASan",
        "outputId": "e78c6e0c-2206-409d-a333-94c71c15cbe9"
      },
      "outputs": [
        {
          "output_type": "stream",
          "name": "stdout",
          "text": [
            "Separacion de datos terminada!\n"
          ]
        }
      ],
      "source": [
        "#Se separa conjunto en entrenamiento y prueba; sin aleatoriedad\n",
        "X_train, X_test, Y_train, Y_test = train_test_split(predictor_variables, target_variables, test_size=PORCENTAJE_TEST, shuffle=False)\n",
        "\n",
        "shape_x_test=X_test.shape\n",
        "shape_y_test=Y_test.shape\n",
        "\n",
        "print(\"Separacion de datos terminada!\")"
      ]
    },
    {
      "cell_type": "code",
      "source": [
        "#Se da formato de entradas como: Un tensor 3D con la forma [batch, timesteps, feature]\n",
        "X_train=np.array(X_train)\n",
        "X_train = X_train.reshape((X_train.shape[0],1, X_train.shape[1]))\n",
        "\n",
        "Y_train_s=np.array(Y_train)\n",
        "Y_train_s = Y_train_s.reshape((Y_train_s.shape[0],1,Y_train_s.shape[1]))\n",
        "\n",
        "X_test=np.array(X_test)\n",
        "X_test = X_test.reshape((X_test.shape[0],1, X_test.shape[1]))\n",
        "\n",
        "Y_test=np.array(Y_test)\n",
        "Y_test = Y_test.reshape((Y_test.shape[0],1, Y_test.shape[1]))"
      ],
      "metadata": {
        "id": "8zpiSYNmvK_Q"
      },
      "execution_count": null,
      "outputs": []
    },
    {
      "cell_type": "markdown",
      "metadata": {
        "id": "yXEFS6LngHDB"
      },
      "source": [
        "##2.2. Modelo Transformer"
      ]
    },
    {
      "cell_type": "code",
      "source": [
        "import time"
      ],
      "metadata": {
        "id": "owkPF6T3z0dP"
      },
      "execution_count": null,
      "outputs": []
    },
    {
      "cell_type": "code",
      "execution_count": null,
      "metadata": {
        "id": "A2VwFwteGRnk"
      },
      "outputs": [],
      "source": [
        "# Ajustar parámetros para reproducibilidad del entrenamiento\n",
        "keras.utils.set_random_seed(42)\n",
        "tf.config.experimental.enable_op_determinism()"
      ]
    },
    {
      "cell_type": "code",
      "execution_count": null,
      "metadata": {
        "id": "r-2qRBLcld1I"
      },
      "outputs": [],
      "source": [
        "# Transformer with Bayesian optimization and Cross-validation\n",
        "from hyperopt import fmin, tpe, hp, STATUS_OK, Trials\n",
        "from keras.models import Model\n",
        "from keras.layers import Input, Dense, Dropout, TimeDistributed\n",
        "from keras.layers import LayerNormalization, MultiHeadAttention, Add\n",
        "from keras.optimizers import Adam\n",
        "from keras.wrappers.scikit_learn import KerasRegressor\n",
        "from sklearn.model_selection import cross_val_score, KFold"
      ]
    },
    {
      "cell_type": "code",
      "execution_count": null,
      "metadata": {
        "id": "5NkCCLeylhak"
      },
      "outputs": [],
      "source": [
        "def transformer_encoder(inputs, head_size, num_heads, ff_dim, dropout):\n",
        "    x = LayerNormalization()(inputs)\n",
        "    x = MultiHeadAttention(key_dim=head_size, num_heads=num_heads, dropout=dropout)(x, x)\n",
        "    x = Dropout(dropout)(x)\n",
        "    res = Add()([x, inputs])\n",
        "\n",
        "    x = LayerNormalization()(res)\n",
        "    x = Dense(ff_dim, activation='relu')(x)\n",
        "    x = Dropout(dropout)(x)\n",
        "    x = Dense(inputs.shape[-1])(x)\n",
        "    return Add()([x, res])"
      ]
    },
    {
      "cell_type": "code",
      "execution_count": null,
      "metadata": {
        "id": "9HPurVPNlkHY"
      },
      "outputs": [],
      "source": [
        "def create_model(head_size, dropout,num_heads,learning_rate,ff_dim):\n",
        "    inputs = Input(shape=(X_train.shape[1],X_train.shape[2]))\n",
        "    x = inputs\n",
        "    for _ in range(2):  # two transformer blocks\n",
        "        x = transformer_encoder(x, head_size=head_size, num_heads=num_heads, ff_dim=ff_dim, dropout=dropout)\n",
        "    outputs = TimeDistributed(Dense(1))(x)\n",
        "\n",
        "    model = Model(inputs=inputs, outputs=outputs)\n",
        "    model.compile(loss='mean_squared_error',\n",
        "                  optimizer=Adam(learning_rate=learning_rate),\n",
        "                  metrics = [tf.keras.metrics.MeanSquaredError(),\n",
        "                            tf.keras.metrics.RootMeanSquaredError(),\n",
        "                            tf.keras.metrics.MeanAbsoluteError(),\n",
        "                            tf.keras.metrics.MeanAbsolutePercentageError()])\n",
        "    return model"
      ]
    },
    {
      "cell_type": "code",
      "execution_count": null,
      "metadata": {
        "id": "3-KSppXSlsH8"
      },
      "outputs": [],
      "source": [
        "def objective(params):\n",
        "\n",
        "    # Definir los hiperparámetros a optimizar\n",
        "    head_size = params['head_size']\n",
        "    num_heads = params['num_heads']\n",
        "    ff_dim  = params['ff_dim']\n",
        "    dropout  = params['dropout']\n",
        "    epochs = params['epochs']\n",
        "    batch_size = params['batch_size']\n",
        "    learning_rate = params['learning_rate']\n",
        "\n",
        "    #kf = KFold(n_splits=5)\n",
        "    tscv = TimeSeriesSplit(n_splits=5)\n",
        "    scores = []\n",
        "    scores_test=[]\n",
        "    times=[]\n",
        "    models=[]\n",
        "    aux=1000\n",
        "\n",
        "    #Se detiene el entrenamiento en el momento que se observe un incremento en el valor del error de validación.\n",
        "    early_stop = EarlyStopping(monitor='val_loss', patience=30, mode='min',restore_best_weights=True)\n",
        "\n",
        "    #Validacion cruzada\n",
        "    for train_index, test_index in tscv.split(X_train):\n",
        "      X_train_, X_test_ = X_train[train_index], X_train[test_index]\n",
        "      y_train_, y_test_ = Y_train_s[train_index], Y_train_s[test_index]\n",
        "\n",
        "      # Crear el modelo de Transformer\n",
        "      model = create_model(int(head_size), float(dropout),int(num_heads),float(learning_rate),int(ff_dim))\n",
        "\n",
        "      #Entrenamiento\n",
        "      start = time.time()\n",
        "      hist=model.fit(X_train_, y_train_, batch_size=int(batch_size), epochs=int(epochs), verbose=0, validation_data=(X_test_, y_test_),callbacks=[early_stop],use_multiprocessing=True)\n",
        "      end = time.time()\n",
        "\n",
        "      #Evaluacion del modelo\n",
        "      score = model.evaluate(X_test_, y_test_, verbose = 0)\n",
        "      scores.append(score)\n",
        "      #Error en conjunto de test\n",
        "      score_test = model.evaluate(X_test, Y_test, verbose = 0)\n",
        "      scores_test.append(score_test)\n",
        "\n",
        "      if(score_test[0]<aux):\n",
        "        aux=score_test[0]\n",
        "        best_model=model\n",
        "        hist_=hist\n",
        "\n",
        "      #guardar modelo keras\n",
        "      models.append(model)\n",
        "\n",
        "      #Tiempo de la validadion cruzada\n",
        "      time_val= end- start\n",
        "      times.append(time_val)\n",
        "\n",
        "    return{'loss': np.mean(scores),\n",
        "            'status': STATUS_OK,\n",
        "            'model': best_model,\n",
        "            'params': params,\n",
        "            'hist':hist_,\n",
        "            'time':times,\n",
        "            'scores_test': scores_test,\n",
        "            'scores': scores,\n",
        "            'models':models}"
      ]
    },
    {
      "cell_type": "code",
      "execution_count": null,
      "metadata": {
        "id": "WsV85S8XlYjB"
      },
      "outputs": [],
      "source": [
        "\n",
        "# Define the search space for hyperparameters\n",
        "space = {\n",
        "    'head_size': hp.quniform('head_size', 64, 256, 32),\n",
        "    'num_heads':hp.quniform('num_heads', 4, 8, 1),\n",
        "    'ff_dim': hp.quniform('ff_dim', 64, 256, 32),\n",
        "    'dropout':hp.uniform('dropout', 0.4, 0.7),\n",
        "    'learning_rate': hp.uniform('learning_rate', 0.00001, 0.00005),\n",
        "    'epochs': 800,\n",
        "    'batch_size':  hp.quniform('batch_size', 10, 100, 10),\n",
        "}"
      ]
    },
    {
      "cell_type": "code",
      "execution_count": null,
      "metadata": {
        "colab": {
          "base_uri": "https://localhost:8080/",
          "height": 35
        },
        "id": "1k8zZzQ9uKw7",
        "outputId": "cea23a98-98e1-4268-e94a-0905bc8d52ff"
      },
      "outputs": [
        {
          "output_type": "execute_result",
          "data": {
            "text/plain": [
              "\"\\nspace = {\\n    'head_size':500,\\n    'num_heads':10,\\n    'ff_dim': 500,\\n    'dropout':0.59,\\n    'learning_rate': 0.00005,\\n    'epochs': 800,\\n    'batch_size': 30,\\n}\\n\""
            ],
            "application/vnd.google.colaboratory.intrinsic+json": {
              "type": "string"
            }
          },
          "metadata": {},
          "execution_count": 23
        }
      ],
      "source": [
        "'''\n",
        "space = {\n",
        "    'head_size':500,\n",
        "    'num_heads':10,\n",
        "    'ff_dim': 500,\n",
        "    'dropout':0.59,\n",
        "    'learning_rate': 0.00005,\n",
        "    'epochs': 800,\n",
        "    'batch_size': 30,\n",
        "}\n",
        "'''"
      ]
    },
    {
      "cell_type": "code",
      "execution_count": null,
      "metadata": {
        "colab": {
          "base_uri": "https://localhost:8080/"
        },
        "id": "l9en-5GvlwPy",
        "outputId": "adc1af30-cd7e-444e-c307-5f14166cfefd"
      },
      "outputs": [
        {
          "output_type": "stream",
          "name": "stdout",
          "text": [
            "100%|██████████| 1/1 [02:50<00:00, 170.78s/trial, best loss: 54.76914372682572]\n"
          ]
        }
      ],
      "source": [
        "# Bayesian optimization\n",
        "trials = Trials()\n",
        "best = fmin(fn=objective, space=space, algo=tpe.suggest, max_evals=INTENTOS, trials=trials)\n"
      ]
    },
    {
      "cell_type": "code",
      "execution_count": null,
      "metadata": {
        "id": "w-LkIIjzQ7ro"
      },
      "outputs": [],
      "source": [
        "#Obtener el valor de la función objetivo del mejor ensayo\n",
        "best_trial = trials.best_trial\n",
        "hist = best_trial['result']['hist']\n",
        "best_model = best_trial['result']['model']"
      ]
    },
    {
      "cell_type": "code",
      "execution_count": null,
      "metadata": {
        "id": "DzzcaE4MqjZg",
        "colab": {
          "base_uri": "https://localhost:8080/"
        },
        "outputId": "5f5f2ce3-e89f-46f9-ff9f-c527991b0bf4"
      },
      "outputs": [
        {
          "output_type": "execute_result",
          "data": {
            "text/plain": [
              "{'batch_size': 30.0,\n",
              " 'dropout': 0.5505180613367431,\n",
              " 'epochs': 800,\n",
              " 'ff_dim': 160.0,\n",
              " 'head_size': 160.0,\n",
              " 'learning_rate': 3.6885133073677454e-05,\n",
              " 'num_heads': 8.0}"
            ]
          },
          "metadata": {},
          "execution_count": 26
        }
      ],
      "source": [
        "# Obtener una lista de los resultados de todas las evaluaciones\n",
        "all_results = [trial['result'] for trial in trials]\n",
        "\n",
        "# Mejores hiperparámetros encontrados\n",
        "best_params = space_eval(space, best)\n",
        "best_params"
      ]
    },
    {
      "cell_type": "markdown",
      "metadata": {
        "id": "PoXytm9xepyx"
      },
      "source": [
        "# 3.Evaluacion del modelo"
      ]
    },
    {
      "cell_type": "code",
      "execution_count": null,
      "metadata": {
        "id": "WU20oJJt7bBv",
        "colab": {
          "base_uri": "https://localhost:8080/",
          "height": 410
        },
        "outputId": "f92c39f3-60bf-4603-e47b-dd8942e9e3ba"
      },
      "outputs": [
        {
          "output_type": "display_data",
          "data": {
            "text/plain": [
              "<Figure size 800x400 with 1 Axes>"
            ],
            "image/png": "[encoded data removed]"
          },
          "metadata": {}
        }
      ],
      "source": [
        "plt.figure(figsize=(8,4))\n",
        "plt.plot(hist.history['loss'], color = 'orange')\n",
        "plt.plot(hist.history['val_loss'])\n",
        "plt.title('Optimized Model Loss')\n",
        "plt.ylabel('Loss')\n",
        "plt.xlabel('Epoch')\n",
        "plt.legend(['train', 'test'], loc='best')\n",
        "plt.show()"
      ]
    },
    {
      "cell_type": "code",
      "execution_count": null,
      "metadata": {
        "id": "e-qQvke-of30",
        "colab": {
          "base_uri": "https://localhost:8080/"
        },
        "outputId": "72e3d28d-82ca-46d3-fb88-7ad4b7270ee4"
      },
      "outputs": [
        {
          "output_type": "stream",
          "name": "stdout",
          "text": [
            "9/9 [==============================] - 0s 4ms/step\n"
          ]
        }
      ],
      "source": [
        "#Se realiza prediccion\n",
        "results = best_model.predict(X_test)"
      ]
    },
    {
      "cell_type": "code",
      "execution_count": null,
      "metadata": {
        "id": "qhIcFNdlew_k"
      },
      "outputs": [],
      "source": [
        "results = results.reshape(shape_y_test)\n",
        "y_grafico = Y_test.reshape(shape_y_test)"
      ]
    },
    {
      "cell_type": "code",
      "execution_count": null,
      "metadata": {
        "id": "ftwLZ3BmDcB9",
        "colab": {
          "base_uri": "https://localhost:8080/",
          "height": 394
        },
        "outputId": "5da299ce-45a4-4520-b075-b3762720c2c3"
      },
      "outputs": [
        {
          "output_type": "display_data",
          "data": {
            "text/plain": [
              "<Figure size 1800x400 with 1 Axes>"
            ],
            "image/png": "[encoded data removed]"
          },
          "metadata": {}
        }
      ],
      "source": [
        "#Grafico de prediccion con el valor real\n",
        "tiempo=[x for x in range(y_grafico.shape[0])]\n",
        "plt.figure(figsize=(18,4))\n",
        "plt.plot(tiempo,results)\n",
        "plt.ylabel('Global_active_power', size=15)\n",
        "plt.plot(tiempo,y_grafico)\n",
        "plt.xlabel('Time step', size=15)\n",
        "plt.legend(['Prediccion','Real'])\n",
        "plt.show()"
      ]
    },
    {
      "cell_type": "code",
      "execution_count": null,
      "metadata": {
        "id": "yH9bmzulWWER",
        "colab": {
          "base_uri": "https://localhost:8080/"
        },
        "outputId": "684c37fd-3e3e-44d0-cf09-eea3b578d855"
      },
      "outputs": [
        {
          "output_type": "stream",
          "name": "stdout",
          "text": [
            "MSE: 0.3829362094402313\n",
            "RMSE: 0.6188184022903442\n",
            "MAE: 0.45202475786209106\n",
            "MAPE: 220.0372314453125\n"
          ]
        }
      ],
      "source": [
        "#Metricas de precision del modelo\n",
        "score = best_model.evaluate(X_test, Y_test, verbose = 0)\n",
        "print('MSE:', score[1])\n",
        "print('RMSE:', score[2])\n",
        "print('MAE:', score[3])\n",
        "print('MAPE:', score[4])"
      ]
    },
    {
      "cell_type": "markdown",
      "metadata": {
        "id": "UcxinE4q4n3B"
      },
      "source": [
        "#4.Exportar resultados"
      ]
    },
    {
      "cell_type": "markdown",
      "metadata": {
        "id": "HSSOElBiSJ6j"
      },
      "source": [
        "Se guardan los resultados la optimizacion bayesiana"
      ]
    },
    {
      "cell_type": "code",
      "execution_count": 43,
      "metadata": {
        "id": "el6nmqt8yYcE"
      },
      "outputs": [],
      "source": [
        "#Del objeto all_results donde estan los resultados de cada trial de la optimizacion bayesiana se obtiene los parametros para exportalos a un csv\n",
        "results=[]\n",
        "trial=0 #Nº de intento de optimizacion bayesiana\n",
        "\n",
        "for result in all_results:\n",
        "  k=0 #validacion cruzada\n",
        "  trial+=1\n",
        "  i=0\n",
        "  for time in result['time']:\n",
        "    k+=1\n",
        "    nameModel = \"Transformer_CE\" + \"_\"+str(result['params']['epochs'])+\"_\"+str(result['params']['batch_size'])+\"_\"+str(result['params']['head_size'])+\"_\"+str(result['params']['num_heads'])+\"_\"+str(round(result['params']['dropout'],2))+\"_\"+str(result['params']['ff_dim'])+\"_\"+str(result['params']['learning_rate'])\n",
        "    results.append([nameModel,trial,k,time,\n",
        "                    result['scores_test'][i][0],result['scores_test'][i][2],result['scores_test'][i][3],result['scores_test'][i][4]]\n",
        "                   )\n",
        "    i+=1"
      ]
    },
    {
      "cell_type": "code",
      "execution_count": 44,
      "metadata": {
        "id": "42RrcsC43uO2"
      },
      "outputs": [],
      "source": [
        "#Se crea dataframe\n",
        "results_csv=pd.DataFrame(results,columns=['nameModel','trial_optimizacion_bayesiana','Step_validacion','time','MSE','RMSE','MAE','MAPE'])\n"
      ]
    },
    {
      "cell_type": "code",
      "execution_count": 45,
      "metadata": {
        "id": "Ad9h1YK2DLPy",
        "colab": {
          "base_uri": "https://localhost:8080/",
          "height": 206
        },
        "outputId": "d69e86eb-408d-4d0e-93d9-6ddff5deebdb"
      },
      "outputs": [
        {
          "output_type": "execute_result",
          "data": {
            "text/plain": [
              "                                           nameModel  \\\n",
              "4  Transformer_CE_800_30.0_160.0_8.0_0.55_160.0_3...   \n",
              "3  Transformer_CE_800_30.0_160.0_8.0_0.55_160.0_3...   \n",
              "2  Transformer_CE_800_30.0_160.0_8.0_0.55_160.0_3...   \n",
              "1  Transformer_CE_800_30.0_160.0_8.0_0.55_160.0_3...   \n",
              "0  Transformer_CE_800_30.0_160.0_8.0_0.55_160.0_3...   \n",
              "\n",
              "   trial_optimizacion_bayesiana  Step_validacion       time       MSE  \\\n",
              "4                             1                5  48.575975  0.382936   \n",
              "3                             1                4  46.951588  0.418307   \n",
              "2                             1                3  20.728234  0.466245   \n",
              "1                             1                2  25.404007  0.592942   \n",
              "0                             1                1  23.648713  0.921558   \n",
              "\n",
              "       RMSE       MAE        MAPE  \n",
              "4  0.618818  0.452025  220.037231  \n",
              "3  0.646767  0.473294  257.192902  \n",
              "2  0.682822  0.510440  291.703491  \n",
              "1  0.770028  0.576243  377.730988  \n",
              "0  0.959978  0.766428  577.808472  "
            ],
            "text/html": [
              "\n",
              "  <div id=\"df-29d0b08b-11ec-41cc-b59b-999ed6fa9a6d\" class=\"colab-df-container\">\n",
              "    <div>\n",
              "<style scoped>\n",
              "    .dataframe tbody tr th:only-of-type {\n",
              "        vertical-align: middle;\n",
              "    }\n",
              "\n",
              "    .dataframe tbody tr th {\n",
              "        vertical-align: top;\n",
              "    }\n",
              "\n",
              "    .dataframe thead th {\n",
              "        text-align: right;\n",
              "    }\n",
              "</style>\n",
              "<table border=\"1\" class=\"dataframe\">\n",
              "  <thead>\n",
              "    <tr style=\"text-align: right;\">\n",
              "      <th></th>\n",
              "      <th>nameModel</th>\n",
              "      <th>trial_optimizacion_bayesiana</th>\n",
              "      <th>Step_validacion</th>\n",
              "      <th>time</th>\n",
              "      <th>MSE</th>\n",
              "      <th>RMSE</th>\n",
              "      <th>MAE</th>\n",
              "      <th>MAPE</th>\n",
              "    </tr>\n",
              "  </thead>\n",
              "  <tbody>\n",
              "    <tr>\n",
              "      <th>4</th>\n",
              "      <td>Transformer_CE_800_30.0_160.0_8.0_0.55_160.0_3...</td>\n",
              "      <td>1</td>\n",
              "      <td>5</td>\n",
              "      <td>48.575975</td>\n",
              "      <td>0.382936</td>\n",
              "      <td>0.618818</td>\n",
              "      <td>0.452025</td>\n",
              "      <td>220.037231</td>\n",
              "    </tr>\n",
              "    <tr>\n",
              "      <th>3</th>\n",
              "      <td>Transformer_CE_800_30.0_160.0_8.0_0.55_160.0_3...</td>\n",
              "      <td>1</td>\n",
              "      <td>4</td>\n",
              "      <td>46.951588</td>\n",
              "      <td>0.418307</td>\n",
              "      <td>0.646767</td>\n",
              "      <td>0.473294</td>\n",
              "      <td>257.192902</td>\n",
              "    </tr>\n",
              "    <tr>\n",
              "      <th>2</th>\n",
              "      <td>Transformer_CE_800_30.0_160.0_8.0_0.55_160.0_3...</td>\n",
              "      <td>1</td>\n",
              "      <td>3</td>\n",
              "      <td>20.728234</td>\n",
              "      <td>0.466245</td>\n",
              "      <td>0.682822</td>\n",
              "      <td>0.510440</td>\n",
              "      <td>291.703491</td>\n",
              "    </tr>\n",
              "    <tr>\n",
              "      <th>1</th>\n",
              "      <td>Transformer_CE_800_30.0_160.0_8.0_0.55_160.0_3...</td>\n",
              "      <td>1</td>\n",
              "      <td>2</td>\n",
              "      <td>25.404007</td>\n",
              "      <td>0.592942</td>\n",
              "      <td>0.770028</td>\n",
              "      <td>0.576243</td>\n",
              "      <td>377.730988</td>\n",
              "    </tr>\n",
              "    <tr>\n",
              "      <th>0</th>\n",
              "      <td>Transformer_CE_800_30.0_160.0_8.0_0.55_160.0_3...</td>\n",
              "      <td>1</td>\n",
              "      <td>1</td>\n",
              "      <td>23.648713</td>\n",
              "      <td>0.921558</td>\n",
              "      <td>0.959978</td>\n",
              "      <td>0.766428</td>\n",
              "      <td>577.808472</td>\n",
              "    </tr>\n",
              "  </tbody>\n",
              "</table>\n",
              "</div>\n",
              "    <div class=\"colab-df-buttons\">\n",
              "\n",
              "  <div class=\"colab-df-container\">\n",
              "    <button class=\"colab-df-convert\" onclick=\"convertToInteractive('df-29d0b08b-11ec-41cc-b59b-999ed6fa9a6d')\"\n",
              "            title=\"Convert this dataframe to an interactive table.\"\n",
              "            style=\"display:none;\">\n",
              "\n",
              "  <svg xmlns=\"http://www.w3.org/2000/svg\" height=\"24px\" viewBox=\"0 -960 960 960\">\n",
              "    <path d=\"M120-120v-720h720v720H120Zm60-500h600v-160H180v160Zm220 220h160v-160H400v160Zm0 220h160v-160H400v160ZM180-400h160v-160H180v160Zm440 0h160v-160H620v160ZM180-180h160v-160H180v160Zm440 0h160v-160H620v160Z\"/>\n",
              "  </svg>\n",
              "    </button>\n",
              "\n",
              "  <style>\n",
              "    .colab-df-container {\n",
              "      display:flex;\n",
              "      gap: 12px;\n",
              "    }\n",
              "\n",
              "    .colab-df-convert {\n",
              "      background-color: #E8F0FE;\n",
              "      border: none;\n",
              "      border-radius: 50%;\n",
              "      cursor: pointer;\n",
              "      display: none;\n",
              "      fill: #1967D2;\n",
              "      height: 32px;\n",
              "      padding: 0 0 0 0;\n",
              "      width: 32px;\n",
              "    }\n",
              "\n",
              "    .colab-df-convert:hover {\n",
              "      background-color: #E2EBFA;\n",
              "      box-shadow: 0px 1px 2px rgba(60, 64, 67, 0.3), 0px 1px 3px 1px rgba(60, 64, 67, 0.15);\n",
              "      fill: #174EA6;\n",
              "    }\n",
              "\n",
              "    .colab-df-buttons div {\n",
              "      margin-bottom: 4px;\n",
              "    }\n",
              "\n",
              "    [theme=dark] .colab-df-convert {\n",
              "      background-color: #3B4455;\n",
              "      fill: #D2E3FC;\n",
              "    }\n",
              "\n",
              "    [theme=dark] .colab-df-convert:hover {\n",
              "      background-color: #434B5C;\n",
              "      box-shadow: 0px 1px 3px 1px rgba(0, 0, 0, 0.15);\n",
              "      filter: drop-shadow(0px 1px 2px rgba(0, 0, 0, 0.3));\n",
              "      fill: #FFFFFF;\n",
              "    }\n",
              "  </style>\n",
              "\n",
              "    <script>\n",
              "      const buttonEl =\n",
              "        document.querySelector('#df-29d0b08b-11ec-41cc-b59b-999ed6fa9a6d button.colab-df-convert');\n",
              "      buttonEl.style.display =\n",
              "        google.colab.kernel.accessAllowed ? 'block' : 'none';\n",
              "\n",
              "      async function convertToInteractive(key) {\n",
              "        const element = document.querySelector('#df-29d0b08b-11ec-41cc-b59b-999ed6fa9a6d');\n",
              "        const dataTable =\n",
              "          await google.colab.kernel.invokeFunction('convertToInteractive',\n",
              "                                                    [key], {});\n",
              "        if (!dataTable) return;\n",
              "\n",
              "        const docLinkHtml = 'Like what you see? Visit the ' +\n",
              "          '<a target=\"_blank\" href=https://colab.research.google.com/notebooks/data_table.ipynb>data table notebook</a>'\n",
              "          + ' to learn more about interactive tables.';\n",
              "        element.innerHTML = '';\n",
              "        dataTable['output_type'] = 'display_data';\n",
              "        await google.colab.output.renderOutput(dataTable, element);\n",
              "        const docLink = document.createElement('div');\n",
              "        docLink.innerHTML = docLinkHtml;\n",
              "        element.appendChild(docLink);\n",
              "      }\n",
              "    </script>\n",
              "  </div>\n",
              "\n",
              "\n",
              "<div id=\"df-a3e8ba8b-b9de-4c52-ac3e-77afec91774b\">\n",
              "  <button class=\"colab-df-quickchart\" onclick=\"quickchart('df-a3e8ba8b-b9de-4c52-ac3e-77afec91774b')\"\n",
              "            title=\"Suggest charts.\"\n",
              "            style=\"display:none;\">\n",
              "\n",
              "<svg xmlns=\"http://www.w3.org/2000/svg\" height=\"24px\"viewBox=\"0 0 24 24\"\n",
              "     width=\"24px\">\n",
              "    <g>\n",
              "        <path d=\"M19 3H5c-1.1 0-2 .9-2 2v14c0 1.1.9 2 2 2h14c1.1 0 2-.9 2-2V5c0-1.1-.9-2-2-2zM9 17H7v-7h2v7zm4 0h-2V7h2v10zm4 0h-2v-4h2v4z\"/>\n",
              "    </g>\n",
              "</svg>\n",
              "  </button>\n",
              "\n",
              "<style>\n",
              "  .colab-df-quickchart {\n",
              "    background-color: #E8F0FE;\n",
              "    border: none;\n",
              "    border-radius: 50%;\n",
              "    cursor: pointer;\n",
              "    display: none;\n",
              "    fill: #1967D2;\n",
              "    height: 32px;\n",
              "    padding: 0 0 0 0;\n",
              "    width: 32px;\n",
              "  }\n",
              "\n",
              "  .colab-df-quickchart:hover {\n",
              "    background-color: #E2EBFA;\n",
              "    box-shadow: 0px 1px 2px rgba(60, 64, 67, 0.3), 0px 1px 3px 1px rgba(60, 64, 67, 0.15);\n",
              "    fill: #174EA6;\n",
              "  }\n",
              "\n",
              "  [theme=dark] .colab-df-quickchart {\n",
              "    background-color: #3B4455;\n",
              "    fill: #D2E3FC;\n",
              "  }\n",
              "\n",
              "  [theme=dark] .colab-df-quickchart:hover {\n",
              "    background-color: #434B5C;\n",
              "    box-shadow: 0px 1px 3px 1px rgba(0, 0, 0, 0.15);\n",
              "    filter: drop-shadow(0px 1px 2px rgba(0, 0, 0, 0.3));\n",
              "    fill: #FFFFFF;\n",
              "  }\n",
              "</style>\n",
              "\n",
              "  <script>\n",
              "    async function quickchart(key) {\n",
              "      const charts = await google.colab.kernel.invokeFunction(\n",
              "          'suggestCharts', [key], {});\n",
              "    }\n",
              "    (() => {\n",
              "      let quickchartButtonEl =\n",
              "        document.querySelector('#df-a3e8ba8b-b9de-4c52-ac3e-77afec91774b button');\n",
              "      quickchartButtonEl.style.display =\n",
              "        google.colab.kernel.accessAllowed ? 'block' : 'none';\n",
              "    })();\n",
              "  </script>\n",
              "</div>\n",
              "    </div>\n",
              "  </div>\n"
            ]
          },
          "metadata": {},
          "execution_count": 45
        }
      ],
      "source": [
        "results_o = results_csv.sort_values(by='MSE', ascending=True)\n",
        "results_o.head(5)"
      ]
    },
    {
      "cell_type": "code",
      "execution_count": 46,
      "metadata": {
        "id": "cylneAWtiIks"
      },
      "outputs": [],
      "source": [
        "# Exportar el DataFrame como CSV\n",
        "folder_path = '/content/gdrive/MyDrive/Tesis/Datos-ConsumoElectrico/Resultados_csv'\n",
        "csv_filename = 'results_Transformers_CE.csv'\n",
        "csv_path = os.path.join(folder_path, csv_filename)\n",
        "results_csv.to_csv(csv_path, index=False)"
      ]
    },
    {
      "cell_type": "markdown",
      "metadata": {
        "id": "9bNdR66vSPLU"
      },
      "source": [
        "Se guarda cada modelo keras en un objeto Json"
      ]
    },
    {
      "cell_type": "code",
      "execution_count": 47,
      "metadata": {
        "id": "5VluS2b-idOB"
      },
      "outputs": [],
      "source": [
        "# Ruta de la carpeta que deseas crear\n",
        "carpeta_destino = '/content/gdrive/MyDrive/Tesis/Datos-ConsumoElectrico/Resultados_Modelos/results_Transformers'\n",
        "\n",
        "# Verificar si la carpeta ya existe\n",
        "if not os.path.exists(carpeta_destino):\n",
        "    # Crear la carpeta si no existe\n",
        "    os.makedirs(carpeta_destino)"
      ]
    },
    {
      "cell_type": "code",
      "execution_count": 48,
      "metadata": {
        "id": "AG4UyhpyihNo"
      },
      "outputs": [],
      "source": [
        "#Del objeto all_results donde estan los resultados de cada trial de la optimizacion bayesiana se obtiene los modelos para exportalos a un Json\n",
        "results=[]\n",
        "trial=0 #Nº de intento de optimizacion bayesiana\n",
        "\n",
        "for result in all_results:\n",
        "  k=0 #validacion cruzada\n",
        "  trial+=1\n",
        "  i=0\n",
        "  for model in result['models']:\n",
        "    k+=1\n",
        "    nameModel = \"Transformer_CE\" + \"_\"+str(result['params']['epochs'])+\"_\"+str(result['params']['batch_size'])+\"_\"+str(result['params']['head_size'])+\"_\"+str(result['params']['num_heads'])+\"_\"+str(round(result['params']['dropout'],2))+\"_\"+str(result['params']['ff_dim'])+\"_\"+str(result['params']['learning_rate'])\n",
        "    model_json = model.to_json()\n",
        "    ruta = os.path.join(carpeta_destino, nameModel + \".json\")\n",
        "    with open(ruta, \"w\") as json_file:\n",
        "        json_file.write(model_json)\n",
        "    # serialize weights to HDF5\n",
        "    save_w=nameModel+\".\"+\"h5\"\n",
        "    weights_path = os.path.join(carpeta_destino, save_w)\n",
        "    model.save_weights(weights_path)\n",
        "    i+=1"
      ]
    }
  ],
  "metadata": {
    "accelerator": "GPU",
    "colab": {
      "collapsed_sections": [
        "PoXytm9xepyx"
      ],
      "machine_shape": "hm",
      "provenance": [],
      "gpuType": "T4"
    },
    "kernelspec": {
      "display_name": "Python 3",
      "name": "python3"
    },
    "language_info": {
      "name": "python"
    }
  },
  "nbformat": 4,
  "nbformat_minor": 0
}